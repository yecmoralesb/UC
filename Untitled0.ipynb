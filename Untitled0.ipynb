{
  "nbformat": 4,
  "nbformat_minor": 0,
  "metadata": {
    "colab": {
      "provenance": []
    },
    "kernelspec": {
      "name": "python3",
      "display_name": "Python 3"
    },
    "language_info": {
      "name": "python"
    }
  },
  "cells": [
    {
      "cell_type": "code",
      "source": [
        "import numpy as np\n",
        "import array\n",
        "\n",
        "\n",
        "# prompt: crea una matriz de 3x3 como un array f de 9 elementos diferentes\n",
        "f = array.array('f', [1, 2.14, 3, 4,  float('inf'), 6, 7, 8, 9])\n",
        "\n",
        "# Extraer los elementos para formar la matriz\n",
        "i1 = f[:3]\n",
        "i2 = f[3:6]\n",
        "i3 = f[6:]\n",
        "\n",
        "#  matriz con las filas\n",
        "mat = np.array([i1, i2, i3])\n",
        "\n",
        "mat"
      ],
      "metadata": {
        "colab": {
          "base_uri": "https://localhost:8080/"
        },
        "id": "R0hodRzMU3Gi",
        "outputId": "17c1d049-89c9-46b0-9788-fa2c1ccb773f"
      },
      "execution_count": 37,
      "outputs": [
        {
          "output_type": "execute_result",
          "data": {
            "text/plain": [
              "array([[1.  , 2.14, 3.  ],\n",
              "       [4.  ,  inf, 6.  ],\n",
              "       [7.  , 8.  , 9.  ]], dtype=float32)"
            ]
          },
          "metadata": {},
          "execution_count": 37
        }
      ]
    },
    {
      "cell_type": "code",
      "source": [
        "from posixpath import join\n",
        "#prompt: extraer el elemento i,j del array f con una funcion elem\n",
        "\n",
        "def elem(A, i, j):\n",
        "\n",
        "    ext = i * 3 + j\n",
        "    return A[ext]\n",
        "\n",
        "\n",
        "# Obtener el elemento con la posición\n",
        "i = 2\n",
        "j = 1\n",
        "ele= elem(f, i, j)\n",
        "\n",
        "print(f\"su elemento de posición ({i}, {j}) es: {ele}\")\n"
      ],
      "metadata": {
        "id": "2dzpJTWTWJ7F"
      },
      "execution_count": null,
      "outputs": []
    },
    {
      "cell_type": "code",
      "source": [
        "# multiplicar x po una fila i_n y sumarlo a una fila i_m\n",
        "\n",
        "\n",
        "mat[0,:] += 3*mat[1,:]\n",
        "mat"
      ],
      "metadata": {
        "colab": {
          "base_uri": "https://localhost:8080/"
        },
        "id": "aDnpEV-zdWGx",
        "outputId": "4f7a8ee2-2bd9-4969-f96c-892c6ce3a4d6"
      },
      "execution_count": 38,
      "outputs": [
        {
          "output_type": "execute_result",
          "data": {
            "text/plain": [
              "array([[13., inf, 21.],\n",
              "       [ 4., inf,  6.],\n",
              "       [ 7.,  8.,  9.]], dtype=float32)"
            ]
          },
          "metadata": {},
          "execution_count": 38
        }
      ]
    },
    {
      "cell_type": "code",
      "source": [
        "# Multiplicar la fila por un 3\n",
        "\n",
        "\n",
        "mat[2,:] *= 3\n",
        "mat"
      ],
      "metadata": {
        "colab": {
          "base_uri": "https://localhost:8080/"
        },
        "id": "rqR1OoDdaBps",
        "outputId": "22f60b51-3004-41e1-e713-13fb4fa33ba9"
      },
      "execution_count": null,
      "outputs": [
        {
          "output_type": "execute_result",
          "data": {
            "text/plain": [
              "array([[ 3.  ,  6.42,  9.  ],\n",
              "       [ 7.  ,  8.  ,  9.  ],\n",
              "       [12.  ,   inf, 18.  ]], dtype=float32)"
            ]
          },
          "metadata": {},
          "execution_count": 18
        }
      ]
    },
    {
      "cell_type": "code",
      "source": [
        "# Intercambiar filas\n",
        "\n",
        "mat[[1,2],:] = mat[[2,1],:]\n",
        "mat"
      ],
      "metadata": {
        "id": "Xx3yRzUOY5Vp",
        "colab": {
          "base_uri": "https://localhost:8080/"
        },
        "outputId": "7f63ce8a-f907-44de-8ba7-7d1179de385f"
      },
      "execution_count": 39,
      "outputs": [
        {
          "output_type": "execute_result",
          "data": {
            "text/plain": [
              "array([[13., inf, 21.],\n",
              "       [ 7.,  8.,  9.],\n",
              "       [ 4., inf,  6.]], dtype=float32)"
            ]
          },
          "metadata": {},
          "execution_count": 39
        }
      ]
    }
  ]
}