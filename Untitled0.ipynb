{
  "cells": [
    {
      "cell_type": "code",
      "execution_count": null,
      "metadata": {
        "id": "LQIyPGT_wDkZ"
      },
      "outputs": [],
      "source": [
        "# prompt: crea una matriz de 3x3 como un array f de 9 elementos\n",
        "\n",
        "f = [0] * 9\n",
        "m = []\n",
        "for i in range(3):\n",
        "  m.append(f[i*3:i*3+3])\n"
      ]
    },
    {
      "cell_type": "code",
      "execution_count": null,
      "metadata": {
        "id": "ezRTkZvqwVZB"
      },
      "outputs": [],
      "source": [
        "# prompt: crea una matriz de 3x3 como un array f de 9 elementos\n",
        "\n",
        "f = [0] * 9\n",
        "m = [[f[i*3+j] for j in range(3)] for i in range(3)]\n"
      ]
    },
    {
      "cell_type": "code",
      "execution_count": null,
      "metadata": {
        "id": "VE0g2C5ww_jr"
      },
      "outputs": [],
      "source": [
        "# prompt: crea un array f de 9 elementos diferentes\n",
        "\n",
        "f = [0, 1, 2, 3, 4, 5, 6, 7, 8]\n"
      ]
    },
    {
      "cell_type": "code",
      "execution_count": null,
      "metadata": {
        "colab": {
          "base_uri": "https://localhost:8080/"
        },
        "id": "U4c-O0Y6xeKD",
        "outputId": "88ad7a7f-88ca-44d5-8ca8-6fa5c5fb32a3"
      },
      "outputs": [
        {
          "data": {
            "text/plain": [
              "[[0.0, 1.0, 2.140000104904175], [3.0, 4.0, inf], [6.0, 7.0, 8.0]]"
            ]
          },
          "execution_count": 27,
          "metadata": {},
          "output_type": "execute_result"
        }
      ],
      "source": [
        "\n",
        "from array import array\n",
        "# prompt: crea una matriz de 3x3 como un array f de 9 elementos diferentes\n",
        "\n",
        "f = array('f', [ 0, 1, 2.14, 3, 4, float('inf'), 6, 7, 8])\n",
        "m = [[f[i*3+j] for j in range(3)] for i in range(3)]\n",
        "m"
      ]
    },
    {
      "cell_type": "code",
      "execution_count": null,
      "metadata": {
        "id": "moFuwI_i2iRC"
      },
      "outputs": [],
      "source": [
        "# prompt: extraer el elemento i,j del array f con una funcion elem\n",
        "\n",
        "def elem(f, i, j):\n",
        "  return f[i * len(f[0]) + j]\n",
        "\n",
        "# Example usage\n",
        "f = array('f', [ 0, 1, 2.14, 3, 5, float('inf'), 6, 7, 8])\n",
        "\n",
        "\n",
        "print(elem(f, 1, 2))  # Output: 4\n",
        "print(elem(f, 2, 0))  # Output: 6\n"
      ]
    }
  ],
  "metadata": {
    "colab": {
      "provenance": []
    },
    "kernelspec": {
      "display_name": "Python 3",
      "name": "python3"
    },
    "language_info": {
      "name": "python"
    }
  },
  "nbformat": 4,
  "nbformat_minor": 0
}
